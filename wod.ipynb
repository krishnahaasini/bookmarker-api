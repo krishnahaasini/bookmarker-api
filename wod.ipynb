{
 "cells": [
  {
   "cell_type": "code",
   "execution_count": 1,
   "metadata": {},
   "outputs": [
    {
     "name": "stdout",
     "output_type": "stream",
     "text": [
      "    Exercise    Reps\n",
      "--  ----------  ------\n",
      " 4  Pullups     10-30\n",
      " 7  Plank       30-60\n",
      " 8  Crunches    20-30\n"
     ]
    }
   ],
   "source": [
    "\n",
    "import pandas as pd\n",
    "from tabulate import tabulate\n",
    "data = pd.read_csv(\"D:\\ML\\exercises.csv\")\n",
    "#print(data)\n",
    "#type(data)\n",
    "df = pd.DataFrame(data)\n",
    "random_df = df.sample(3)\n",
    "# display(random_df)\n",
    "print(tabulate(random_df, headers=['Exercise','Reps']))"
   ]
  },
  {
   "cell_type": "code",
   "execution_count": null,
   "metadata": {},
   "outputs": [],
   "source": []
  },
  {
   "cell_type": "code",
   "execution_count": 9,
   "metadata": {},
   "outputs": [
    {
     "name": "stderr",
     "output_type": "stream",
     "text": [
      "Traceback (most recent call last):\n",
      "  File \"wod.py\", line 8, in <module>\n",
      "    parser.add_argument('e','--easy', default = False , help ='Halve the reps (default:False)')\n",
      "  File \"d:\\condabin\\envs\\learn\\lib\\argparse.py\", line 1354, in add_argument\n",
      "    kwargs = self._get_optional_kwargs(*args, **kwargs)\n",
      "  File \"d:\\condabin\\envs\\learn\\lib\\argparse.py\", line 1489, in _get_optional_kwargs\n",
      "    raise ValueError(msg % args)\n",
      "ValueError: invalid option string 'e': must start with a character '-'\n"
     ]
    }
   ],
   "source": [
    "!python wod.py -h"
   ]
  },
  {
   "cell_type": "code",
   "execution_count": 1,
   "metadata": {},
   "outputs": [
    {
     "name": "stdout",
     "output_type": "stream",
     "text": [
      "[{'exercise': 'Burpees', 'reps': '20-50'},\n",
      " {'exercise': 'Situps', 'reps': '40-100'},\n",
      " {'exercise': 'Pushups', 'reps': '25-75'},\n",
      " {'exercise': 'Squats', 'reps': '20-50'},\n",
      " {'exercise': 'Pullups', 'reps': '10-30'},\n",
      " {'exercise': 'Hand-stand pushups', 'reps': '5-20'},\n",
      " {'exercise': 'Lunges', 'reps': '20-40'},\n",
      " {'exercise': 'Plank', 'reps': '30-60'},\n",
      " {'exercise': 'Crunches', 'reps': '20-30'}]\n"
     ]
    }
   ],
   "source": [
    "from pprint import pprint\n",
    "\n",
    "with open(\"D:/ML/exercises.csv\") as fi:\n",
    "    headers = fi.readline().strip().split(\",\")\n",
    "    sample_list = []\n",
    "    for line in fi:\n",
    "        sample = dict(zip(headers, line.strip().split(\",\")))\n",
    "        sample_list.append(sample)\n",
    "pprint(sample_list)\n"
   ]
  },
  {
   "cell_type": "code",
   "execution_count": 17,
   "metadata": {},
   "outputs": [
    {
     "name": "stdout",
     "output_type": "stream",
     "text": [
      "{'exercise': 'Burpees', 'reps': '20-50'}\n",
      "{'exercise': 'Situps', 'reps': '40-100'}\n",
      "{'exercise': 'Pushups', 'reps': '25-75'}\n",
      "{'exercise': 'Squats', 'reps': '20-50'}\n",
      "{'exercise': 'Pullups', 'reps': '10-30'}\n",
      "{'exercise': 'Hand-stand pushups', 'reps': '5-20'}\n",
      "{'exercise': 'Lunges', 'reps': '20-40'}\n",
      "{'exercise': 'Plank', 'reps': '30-60'}\n",
      "{'exercise': 'Crunches', 'reps': '20-30'}\n"
     ]
    }
   ],
   "source": [
    "import pandas as pd\n",
    "from tabulate import tabulate\n",
    "import csv\n",
    "with open(\"D:/ML/exercises.csv\") as fh:\n",
    "    reader = csv.DictReader(fh, delimiter=',')\n",
    "    for row in reader:\n",
    "        print(row)\n",
    "\n"
   ]
  },
  {
   "cell_type": "code",
   "execution_count": 3,
   "metadata": {},
   "outputs": [
    {
     "ename": "SystemExit",
     "evalue": "2",
     "output_type": "error",
     "traceback": [
      "\u001b[1;31m---------------------------------------------------------------------------\u001b[0m",
      "\u001b[1;31mSystemExit\u001b[0m                                Traceback (most recent call last)",
      "\u001b[1;32md:\\ML\\HaasiniLearning\\wod.ipynb Cell 5'\u001b[0m in \u001b[0;36m<cell line: 11>\u001b[1;34m()\u001b[0m\n\u001b[0;32m      <a href='vscode-notebook-cell:/d%3A/ML/HaasiniLearning/wod.ipynb#ch0000005?line=8'>9</a>\u001b[0m parser\u001b[39m.\u001b[39madd_argument(\u001b[39m\"\u001b[39m\u001b[39m-n\u001b[39m\u001b[39m\"\u001b[39m,\u001b[39m\"\u001b[39m\u001b[39m--num \u001b[39m\u001b[39m\"\u001b[39m, metavar \u001b[39m=\u001b[39m\u001b[39m'\u001b[39m\u001b[39mexercises\u001b[39m\u001b[39m'\u001b[39m, default \u001b[39m=\u001b[39m \u001b[39m4\u001b[39m, \u001b[39mtype\u001b[39m \u001b[39m=\u001b[39m\u001b[39mint\u001b[39m,help \u001b[39m=\u001b[39m\u001b[39m\"\u001b[39m\u001b[39mNumber of exercises (default :4)\u001b[39m\u001b[39m\"\u001b[39m)\n\u001b[0;32m     <a href='vscode-notebook-cell:/d%3A/ML/HaasiniLearning/wod.ipynb#ch0000005?line=9'>10</a>\u001b[0m parser\u001b[39m.\u001b[39madd_argument(\u001b[39m'\u001b[39m\u001b[39m-e\u001b[39m\u001b[39m'\u001b[39m,\u001b[39m'\u001b[39m\u001b[39m--easy\u001b[39m\u001b[39m'\u001b[39m , help \u001b[39m=\u001b[39m\u001b[39m'\u001b[39m\u001b[39mHalve the reps (default:False)\u001b[39m\u001b[39m'\u001b[39m, action \u001b[39m=\u001b[39m \u001b[39m'\u001b[39m\u001b[39mstore_true\u001b[39m\u001b[39m'\u001b[39m)\n\u001b[1;32m---> <a href='vscode-notebook-cell:/d%3A/ML/HaasiniLearning/wod.ipynb#ch0000005?line=10'>11</a>\u001b[0m args \u001b[39m=\u001b[39m parser\u001b[39m.\u001b[39;49mparse_args()\n",
      "File \u001b[1;32md:\\condabin\\envs\\learn\\lib\\argparse.py:1771\u001b[0m, in \u001b[0;36mArgumentParser.parse_args\u001b[1;34m(self, args, namespace)\u001b[0m\n\u001b[0;32m   1769\u001b[0m \u001b[39mif\u001b[39;00m argv:\n\u001b[0;32m   1770\u001b[0m     msg \u001b[39m=\u001b[39m _(\u001b[39m'\u001b[39m\u001b[39munrecognized arguments: \u001b[39m\u001b[39m%s\u001b[39;00m\u001b[39m'\u001b[39m)\n\u001b[1;32m-> 1771\u001b[0m     \u001b[39mself\u001b[39;49m\u001b[39m.\u001b[39;49merror(msg \u001b[39m%\u001b[39;49m \u001b[39m'\u001b[39;49m\u001b[39m \u001b[39;49m\u001b[39m'\u001b[39;49m\u001b[39m.\u001b[39;49mjoin(argv))\n\u001b[0;32m   1772\u001b[0m \u001b[39mreturn\u001b[39;00m args\n",
      "File \u001b[1;32md:\\condabin\\envs\\learn\\lib\\argparse.py:2521\u001b[0m, in \u001b[0;36mArgumentParser.error\u001b[1;34m(self, message)\u001b[0m\n\u001b[0;32m   2519\u001b[0m \u001b[39mself\u001b[39m\u001b[39m.\u001b[39mprint_usage(_sys\u001b[39m.\u001b[39mstderr)\n\u001b[0;32m   2520\u001b[0m args \u001b[39m=\u001b[39m {\u001b[39m'\u001b[39m\u001b[39mprog\u001b[39m\u001b[39m'\u001b[39m: \u001b[39mself\u001b[39m\u001b[39m.\u001b[39mprog, \u001b[39m'\u001b[39m\u001b[39mmessage\u001b[39m\u001b[39m'\u001b[39m: message}\n\u001b[1;32m-> 2521\u001b[0m \u001b[39mself\u001b[39;49m\u001b[39m.\u001b[39;49mexit(\u001b[39m2\u001b[39;49m, _(\u001b[39m'\u001b[39;49m\u001b[39m%(prog)s\u001b[39;49;00m\u001b[39m: error: \u001b[39;49m\u001b[39m%(message)s\u001b[39;49;00m\u001b[39m\\n\u001b[39;49;00m\u001b[39m'\u001b[39;49m) \u001b[39m%\u001b[39;49m args)\n",
      "File \u001b[1;32md:\\condabin\\envs\\learn\\lib\\argparse.py:2508\u001b[0m, in \u001b[0;36mArgumentParser.exit\u001b[1;34m(self, status, message)\u001b[0m\n\u001b[0;32m   2506\u001b[0m \u001b[39mif\u001b[39;00m message:\n\u001b[0;32m   2507\u001b[0m     \u001b[39mself\u001b[39m\u001b[39m.\u001b[39m_print_message(message, _sys\u001b[39m.\u001b[39mstderr)\n\u001b[1;32m-> 2508\u001b[0m _sys\u001b[39m.\u001b[39;49mexit(status)\n",
      "\u001b[1;31mSystemExit\u001b[0m: 2"
     ]
    },
    {
     "name": "stderr",
     "output_type": "stream",
     "text": [
      "usage: ipykernel_launcher.py [-h] [-f FILE] [-s SEED] [-n exercises] [-e]\n",
      "ipykernel_launcher.py: error: unrecognized arguments: --ip=127.0.0.1 --stdin=9008 --control=9006 --hb=9005 --Session.signature_scheme=\"hmac-sha256\" --Session.key=b\"892561a7-c2a4-4059-885c-831d1ce3db2f\" --shell=9007 --transport=\"tcp\" --iopub=9009\n"
     ]
    },
    {
     "ename": "SystemExit",
     "evalue": "2",
     "output_type": "error",
     "traceback": [
      "An exception has occurred, use %tb to see the full traceback.\n",
      "\u001b[1;31mSystemExit\u001b[0m\u001b[1;31m:\u001b[0m 2\n"
     ]
    }
   ],
   "source": [
    "%tb\n",
    "\n",
    "import argparse\n",
    "\n",
    "\n",
    "parser = argparse.ArgumentParser()\n",
    "parser.add_argument(\"-f\",\"--file\", default=\"D:/ML/exercises.csv\", help = \"CSV imput file of exercises (default inputs/exercises.csv)\",type=argparse.FileType('rt'))\n",
    "parser.add_argument(\"-s\",\"--seed\", default=None,type = int, help=\"Random seed (default:None)\")\n",
    "parser.add_argument(\"-n\",\"--num \", metavar ='exercises', default = 4, type =int,help =\"Number of exercises (default :4)\")\n",
    "parser.add_argument('-e','--easy' , help ='Halve the reps (default:False)', action = 'store_true')\n",
    "args = parser.parse_args()\n",
    "# dir(args)"
   ]
  },
  {
   "cell_type": "code",
   "execution_count": 3,
   "metadata": {},
   "outputs": [],
   "source": [
    "import argparse"
   ]
  },
  {
   "cell_type": "code",
   "execution_count": null,
   "metadata": {},
   "outputs": [],
   "source": []
  }
 ],
 "metadata": {
  "kernelspec": {
   "display_name": "Python 3 (ipykernel)",
   "language": "python",
   "name": "python3"
  },
  "language_info": {
   "codemirror_mode": {
    "name": "ipython",
    "version": 3
   },
   "file_extension": ".py",
   "mimetype": "text/x-python",
   "name": "python",
   "nbconvert_exporter": "python",
   "pygments_lexer": "ipython3",
   "version": "3.8.13"
  },
  "vscode": {
   "interpreter": {
    "hash": "9dedccba8558eda1306ac033967523501b8c565b758e1d9a89dd36f00d04054b"
   }
  }
 },
 "nbformat": 4,
 "nbformat_minor": 4
}
